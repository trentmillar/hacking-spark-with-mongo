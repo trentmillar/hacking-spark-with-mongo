{
 "cells": [
  {
   "cell_type": "code",
   "execution_count": 19,
   "metadata": {
    "collapsed": true
   },
   "outputs": [],
   "source": [
    "import pyspark.sql.functions\n",
    "from pyspark.sql import SparkSession"
   ]
  },
  {
   "cell_type": "code",
   "execution_count": 20,
   "outputs": [],
   "source": [
    "spark = SparkSession.builder.appName(\"grab_dataframe\").getOrCreate()"
   ],
   "metadata": {
    "collapsed": false,
    "pycharm": {
     "name": "#%%\n"
    }
   }
  },
  {
   "cell_type": "code",
   "execution_count": 21,
   "outputs": [],
   "source": [
    "df = spark.read.json(\"./../sample_data/people.json\")"
   ],
   "metadata": {
    "collapsed": false,
    "pycharm": {
     "name": "#%%\n"
    }
   }
  },
  {
   "cell_type": "code",
   "execution_count": 22,
   "outputs": [
    {
     "name": "stdout",
     "output_type": "stream",
     "text": [
      "+----+-----+\n",
      "| age| name|\n",
      "+----+-----+\n",
      "|null|  Joe|\n",
      "|  39| John|\n",
      "|  49|Jason|\n",
      "+----+-----+\n",
      "\n"
     ]
    }
   ],
   "source": [
    "df.show()"
   ],
   "metadata": {
    "collapsed": false,
    "pycharm": {
     "name": "#%%\n"
    }
   }
  },
  {
   "cell_type": "markdown",
   "source": [
    "### indexing [] gets column object"
   ],
   "metadata": {
    "collapsed": false,
    "pycharm": {
     "name": "#%% md\n"
    }
   }
  },
  {
   "cell_type": "code",
   "execution_count": 23,
   "outputs": [
    {
     "data": {
      "text/plain": "pyspark.sql.column.Column"
     },
     "execution_count": 23,
     "metadata": {},
     "output_type": "execute_result"
    }
   ],
   "source": [
    "type(df[\"name\"])"
   ],
   "metadata": {
    "collapsed": false,
    "pycharm": {
     "name": "#%%\n"
    }
   }
  },
  {
   "cell_type": "markdown",
   "source": [
    "### select method returns a dataframe of that column"
   ],
   "metadata": {
    "collapsed": false,
    "pycharm": {
     "name": "#%% md\n"
    }
   }
  },
  {
   "cell_type": "code",
   "execution_count": 24,
   "outputs": [
    {
     "name": "stdout",
     "output_type": "stream",
     "text": [
      "+-----+\n",
      "| name|\n",
      "+-----+\n",
      "|  Joe|\n",
      "| John|\n",
      "|Jason|\n",
      "+-----+\n",
      "\n"
     ]
    }
   ],
   "source": [
    "type(df.select(\"name\"))\n",
    "\n",
    "df.select(\"name\").show()"
   ],
   "metadata": {
    "collapsed": false,
    "pycharm": {
     "name": "#%%\n"
    }
   }
  },
  {
   "cell_type": "markdown",
   "source": [
    "### head method will grab N Rows from the top of the dataframe"
   ],
   "metadata": {
    "collapsed": false,
    "pycharm": {
     "name": "#%% md\n"
    }
   }
  },
  {
   "cell_type": "code",
   "execution_count": 26,
   "outputs": [
    {
     "data": {
      "text/plain": "[Row(age=None, name='Joe'), Row(age=39, name='John')]"
     },
     "execution_count": 26,
     "metadata": {},
     "output_type": "execute_result"
    }
   ],
   "source": [
    "df.head(2)"
   ],
   "metadata": {
    "collapsed": false,
    "pycharm": {
     "name": "#%%\n"
    }
   }
  },
  {
   "cell_type": "code",
   "execution_count": 35,
   "outputs": [],
   "source": [
    "row = df.head(3)[0]"
   ],
   "metadata": {
    "collapsed": false,
    "pycharm": {
     "name": "#%%\n"
    }
   }
  },
  {
   "cell_type": "code",
   "execution_count": 39,
   "outputs": [
    {
     "name": "stdout",
     "output_type": "stream",
     "text": [
      "+-----+----+\n",
      "| name| age|\n",
      "+-----+----+\n",
      "|  Joe|null|\n",
      "| John|  39|\n",
      "|Jason|  49|\n",
      "+-----+----+\n",
      "\n"
     ]
    }
   ],
   "source": [
    "df.select([\"name\", \"age\"]).show()"
   ],
   "metadata": {
    "collapsed": false,
    "pycharm": {
     "name": "#%%\n"
    }
   }
  },
  {
   "cell_type": "markdown",
   "source": [
    "### withColumn will return a new dataframe with this new column added"
   ],
   "metadata": {
    "collapsed": false,
    "pycharm": {
     "name": "#%% md\n"
    }
   }
  },
  {
   "cell_type": "code",
   "execution_count": 42,
   "outputs": [
    {
     "name": "stdout",
     "output_type": "stream",
     "text": [
      "+----+-----+----------+\n",
      "| age| name|double_age|\n",
      "+----+-----+----------+\n",
      "|null|  Joe|      null|\n",
      "|  39| John|        78|\n",
      "|  49|Jason|        98|\n",
      "+----+-----+----------+\n",
      "\n"
     ]
    }
   ],
   "source": [
    "df = df.withColumn(\"double_age\", df[\"age\"] * 2)\n",
    "df.show()"
   ],
   "metadata": {
    "collapsed": false,
    "pycharm": {
     "name": "#%%\n"
    }
   }
  },
  {
   "cell_type": "markdown",
   "source": [
    "### withColumnRenamed to rename a column"
   ],
   "metadata": {
    "collapsed": false,
    "pycharm": {
     "name": "#%% md\n"
    }
   }
  },
  {
   "cell_type": "code",
   "execution_count": 44,
   "outputs": [
    {
     "data": {
      "text/plain": "DataFrame[new_age: bigint, name: string, double_age: bigint]"
     },
     "execution_count": 44,
     "metadata": {},
     "output_type": "execute_result"
    }
   ],
   "source": [
    "df.withColumnRenamed(\"age\", \"new_age\")"
   ],
   "metadata": {
    "collapsed": false,
    "pycharm": {
     "name": "#%%\n"
    }
   }
  },
  {
   "cell_type": "markdown",
   "source": [
    "### use SQL"
   ],
   "metadata": {
    "collapsed": false,
    "pycharm": {
     "name": "#%% md\n"
    }
   }
  },
  {
   "cell_type": "code",
   "execution_count": 53,
   "outputs": [
    {
     "name": "stdout",
     "output_type": "stream",
     "text": [
      "+----+-----+----------+\n",
      "| age| name|double_age|\n",
      "+----+-----+----------+\n",
      "|null|  Joe|      null|\n",
      "|  39| John|        78|\n",
      "|  49|Jason|        98|\n",
      "+----+-----+----------+\n",
      "\n",
      "+---+-----+----------+\n",
      "|age| name|double_age|\n",
      "+---+-----+----------+\n",
      "| 49|Jason|        98|\n",
      "+---+-----+----------+\n",
      "\n",
      "+----+-----+----------+\n",
      "| age| name|double_age|\n",
      "+----+-----+----------+\n",
      "|  49|Jason|        98|\n",
      "|  39| John|        78|\n",
      "|null|  Joe|      null|\n",
      "+----+-----+----------+\n",
      "\n",
      "+----+-----+----------+\n",
      "| age| name|double_age|\n",
      "+----+-----+----------+\n",
      "|null|  Joe|      null|\n",
      "|  39| John|        78|\n",
      "|  49|Jason|        98|\n",
      "+----+-----+----------+\n",
      "\n",
      "+---+-----+----------+\n",
      "|age| name|double_age|\n",
      "+---+-----+----------+\n",
      "| 39| John|        78|\n",
      "| 49|Jason|        98|\n",
      "+---+-----+----------+\n",
      "\n",
      "+----+----+----------+\n",
      "| age|name|double_age|\n",
      "+----+----+----------+\n",
      "|null| Joe|      null|\n",
      "+----+----+----------+\n",
      "\n",
      "+---+-----+----------+\n",
      "|age| name|double_age|\n",
      "+---+-----+----------+\n",
      "| 49|Jason|        98|\n",
      "+---+-----+----------+\n",
      "\n"
     ]
    }
   ],
   "source": [
    "df.createOrReplaceTempView(\"people\")\n",
    "\n",
    "spark.sql(\"select * from people\").show()\n",
    "spark.sql(\"select * from people where age > 40\").show()\n",
    "spark.sql(\"select * from people order by age desc\").show()\n",
    "spark.sql(\"select * from people order by age asc\").show()\n",
    "spark.sql(\"select * from people where age is not null\").show()\n",
    "spark.sql(\"select * from people where age is null\").show()\n",
    "\n",
    "age = 40\n",
    "spark.sql(\"select * from people where age > {0}\".format(age)).show()"
   ],
   "metadata": {
    "collapsed": false,
    "pycharm": {
     "name": "#%%\n"
    }
   }
  },
  {
   "cell_type": "code",
   "source": [
    "from pyspark.sql.functions import asc, desc\n",
    "\n",
    "df.filter(\"age > 40\").show()\n",
    "df.filter(\"age is not null\").show()\n",
    "df.orderBy(desc(\"age\")).show()\n",
    "df.orderBy(asc(\"age\")).show()\n",
    "\n"
   ],
   "metadata": {
    "collapsed": false,
    "pycharm": {
     "name": "#%% md SQL w/o view\n"
    }
   },
   "execution_count": 59,
   "outputs": [
    {
     "name": "stdout",
     "output_type": "stream",
     "text": [
      "+---+-----+----------+\n",
      "|age| name|double_age|\n",
      "+---+-----+----------+\n",
      "| 49|Jason|        98|\n",
      "+---+-----+----------+\n",
      "\n",
      "+---+-----+----------+\n",
      "|age| name|double_age|\n",
      "+---+-----+----------+\n",
      "| 39| John|        78|\n",
      "| 49|Jason|        98|\n",
      "+---+-----+----------+\n",
      "\n",
      "+----+-----+----------+\n",
      "| age| name|double_age|\n",
      "+----+-----+----------+\n",
      "|  49|Jason|        98|\n",
      "|  39| John|        78|\n",
      "|null|  Joe|      null|\n",
      "+----+-----+----------+\n",
      "\n",
      "+----+-----+----------+\n",
      "| age| name|double_age|\n",
      "+----+-----+----------+\n",
      "|null|  Joe|      null|\n",
      "|  39| John|        78|\n",
      "|  49|Jason|        98|\n",
      "+----+-----+----------+\n",
      "\n"
     ]
    }
   ]
  }
 ],
 "metadata": {
  "kernelspec": {
   "display_name": "Python 3",
   "language": "python",
   "name": "python3"
  },
  "language_info": {
   "codemirror_mode": {
    "name": "ipython",
    "version": 2
   },
   "file_extension": ".py",
   "mimetype": "text/x-python",
   "name": "python",
   "nbconvert_exporter": "python",
   "pygments_lexer": "ipython2",
   "version": "2.7.6"
  }
 },
 "nbformat": 4,
 "nbformat_minor": 0
}