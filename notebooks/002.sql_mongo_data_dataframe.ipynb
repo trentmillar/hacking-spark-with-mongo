{
 "cells": [
  {
   "cell_type": "code",
   "execution_count": 2,
   "metadata": {
    "collapsed": true
   },
   "outputs": [],
   "source": [
    "import pyspark.sql.functions\n",
    "from pyspark.sql import SparkSession"
   ]
  },
  {
   "cell_type": "code",
   "execution_count": 16,
   "outputs": [],
   "source": [
    "spark = SparkSession \\\n",
    "    .builder \\\n",
    "    .appName(\"grab_dataframe\") \\\n",
    "    .config('spark.jars.packages', 'org.mongodb.spark:mongo-spark-connector:10.0.5') \\\n",
    "    .getOrCreate()"
   ],
   "metadata": {
    "collapsed": false,
    "pycharm": {
     "name": "#%%\n"
    }
   }
  },
  {
   "cell_type": "code",
   "execution_count": 17,
   "outputs": [],
   "source": [
    "database = \"hacking\"\n",
    "collection = \"people\"\n",
    "connectionString = \"mongodb://127.0.0.1\""
   ],
   "metadata": {
    "collapsed": false,
    "pycharm": {
     "name": "#%%\n"
    }
   }
  },
  {
   "cell_type": "code",
   "execution_count": 18,
   "outputs": [
    {
     "name": "stdout",
     "output_type": "stream",
     "text": [
      "DataFrame[_id: string, age: int, name: string]\n"
     ]
    }
   ],
   "source": [
    "df = spark.read.format(\"mongodb\") \\\n",
    "    .option(\"database\", database) \\\n",
    "    .option(\"connection.uri\", connectionString) \\\n",
    "    .option(\"collection\", collection) \\\n",
    "    .load()\n",
    "print(df)"
   ],
   "metadata": {
    "collapsed": false,
    "pycharm": {
     "name": "#%%\n"
    }
   }
  },
  {
   "cell_type": "code",
   "execution_count": 19,
   "outputs": [
    {
     "name": "stdout",
     "output_type": "stream",
     "text": [
      "+--------------------+----+-----+\n",
      "|                 _id| age| name|\n",
      "+--------------------+----+-----+\n",
      "|636d401e920e9fad5...|  30| John|\n",
      "|636d401e920e9fad5...|  45|  Joe|\n",
      "|636d401e920e9fad5...|null|Jason|\n",
      "+--------------------+----+-----+\n",
      "\n"
     ]
    }
   ],
   "source": [
    "df.show()"
   ],
   "metadata": {
    "collapsed": false,
    "pycharm": {
     "name": "#%%\n"
    }
   }
  },
  {
   "cell_type": "markdown",
   "source": [
    "### indexing [] gets column object"
   ],
   "metadata": {
    "collapsed": false,
    "pycharm": {
     "name": "#%% md\n"
    }
   }
  },
  {
   "cell_type": "code",
   "execution_count": 8,
   "outputs": [
    {
     "data": {
      "text/plain": "pyspark.sql.column.Column"
     },
     "execution_count": 8,
     "metadata": {},
     "output_type": "execute_result"
    }
   ],
   "source": [
    "type(df[\"name\"])"
   ],
   "metadata": {
    "collapsed": false,
    "pycharm": {
     "name": "#%%\n"
    }
   }
  },
  {
   "cell_type": "markdown",
   "source": [
    "### select method returns a dataframe of that column"
   ],
   "metadata": {
    "collapsed": false,
    "pycharm": {
     "name": "#%% md\n"
    }
   }
  },
  {
   "cell_type": "code",
   "execution_count": 9,
   "outputs": [
    {
     "name": "stdout",
     "output_type": "stream",
     "text": [
      "+-----+\n",
      "| name|\n",
      "+-----+\n",
      "| John|\n",
      "|  Joe|\n",
      "|Jason|\n",
      "+-----+\n",
      "\n"
     ]
    }
   ],
   "source": [
    "type(df.select(\"name\"))\n",
    "\n",
    "df.select(\"name\").show()"
   ],
   "metadata": {
    "collapsed": false,
    "pycharm": {
     "name": "#%%\n"
    }
   }
  },
  {
   "cell_type": "markdown",
   "source": [
    "### head method will grab N Rows from the top of the dataframe"
   ],
   "metadata": {
    "collapsed": false,
    "pycharm": {
     "name": "#%% md\n"
    }
   }
  },
  {
   "cell_type": "code",
   "execution_count": 10,
   "outputs": [
    {
     "data": {
      "text/plain": "[Row(_id='636d401e920e9fad564fb66b', age=30, name='John'),\n Row(_id='636d401e920e9fad564fb66c', age=45, name='Joe')]"
     },
     "execution_count": 10,
     "metadata": {},
     "output_type": "execute_result"
    }
   ],
   "source": [
    "df.head(2)"
   ],
   "metadata": {
    "collapsed": false,
    "pycharm": {
     "name": "#%%\n"
    }
   }
  },
  {
   "cell_type": "code",
   "execution_count": 11,
   "outputs": [],
   "source": [
    "row = df.head(3)[0]"
   ],
   "metadata": {
    "collapsed": false,
    "pycharm": {
     "name": "#%%\n"
    }
   }
  },
  {
   "cell_type": "code",
   "execution_count": 39,
   "outputs": [
    {
     "name": "stdout",
     "output_type": "stream",
     "text": [
      "+-----+----+\n",
      "| name| age|\n",
      "+-----+----+\n",
      "|  Joe|null|\n",
      "| John|  39|\n",
      "|Jason|  49|\n",
      "+-----+----+\n",
      "\n"
     ]
    }
   ],
   "source": [
    "df.select([\"name\", \"age\"]).show()"
   ],
   "metadata": {
    "collapsed": false,
    "pycharm": {
     "name": "#%%\n"
    }
   }
  },
  {
   "cell_type": "markdown",
   "source": [
    "### withColumn will return a new dataframe with this new column added"
   ],
   "metadata": {
    "collapsed": false,
    "pycharm": {
     "name": "#%% md\n"
    }
   }
  },
  {
   "cell_type": "code",
   "execution_count": 12,
   "outputs": [
    {
     "name": "stdout",
     "output_type": "stream",
     "text": [
      "+--------------------+----+-----+----------+\n",
      "|                 _id| age| name|double_age|\n",
      "+--------------------+----+-----+----------+\n",
      "|636d401e920e9fad5...|  30| John|        60|\n",
      "|636d401e920e9fad5...|  45|  Joe|        90|\n",
      "|636d401e920e9fad5...|null|Jason|      null|\n",
      "+--------------------+----+-----+----------+\n",
      "\n"
     ]
    }
   ],
   "source": [
    "df = df.withColumn(\"double_age\", df[\"age\"] * 2)\n",
    "df.show()"
   ],
   "metadata": {
    "collapsed": false,
    "pycharm": {
     "name": "#%%\n"
    }
   }
  },
  {
   "cell_type": "markdown",
   "source": [
    "### withColumnRenamed to rename a column"
   ],
   "metadata": {
    "collapsed": false,
    "pycharm": {
     "name": "#%% md\n"
    }
   }
  },
  {
   "cell_type": "code",
   "execution_count": 13,
   "outputs": [
    {
     "data": {
      "text/plain": "DataFrame[_id: string, new_age: int, name: string, double_age: int]"
     },
     "execution_count": 13,
     "metadata": {},
     "output_type": "execute_result"
    }
   ],
   "source": [
    "df.withColumnRenamed(\"age\", \"new_age\")"
   ],
   "metadata": {
    "collapsed": false,
    "pycharm": {
     "name": "#%%\n"
    }
   }
  },
  {
   "cell_type": "markdown",
   "source": [
    "### use SQL"
   ],
   "metadata": {
    "collapsed": false,
    "pycharm": {
     "name": "#%% md\n"
    }
   }
  },
  {
   "cell_type": "code",
   "execution_count": 14,
   "outputs": [
    {
     "name": "stdout",
     "output_type": "stream",
     "text": [
      "+--------------------+----+-----+----------+\n",
      "|                 _id| age| name|double_age|\n",
      "+--------------------+----+-----+----------+\n",
      "|636d401e920e9fad5...|  30| John|        60|\n",
      "|636d401e920e9fad5...|  45|  Joe|        90|\n",
      "|636d401e920e9fad5...|null|Jason|      null|\n",
      "+--------------------+----+-----+----------+\n",
      "\n",
      "+--------------------+---+----+----------+\n",
      "|                 _id|age|name|double_age|\n",
      "+--------------------+---+----+----------+\n",
      "|636d401e920e9fad5...| 45| Joe|        90|\n",
      "+--------------------+---+----+----------+\n",
      "\n",
      "+--------------------+----+-----+----------+\n",
      "|                 _id| age| name|double_age|\n",
      "+--------------------+----+-----+----------+\n",
      "|636d401e920e9fad5...|  45|  Joe|        90|\n",
      "|636d401e920e9fad5...|  30| John|        60|\n",
      "|636d401e920e9fad5...|null|Jason|      null|\n",
      "+--------------------+----+-----+----------+\n",
      "\n",
      "+--------------------+----+-----+----------+\n",
      "|                 _id| age| name|double_age|\n",
      "+--------------------+----+-----+----------+\n",
      "|636d401e920e9fad5...|null|Jason|      null|\n",
      "|636d401e920e9fad5...|  30| John|        60|\n",
      "|636d401e920e9fad5...|  45|  Joe|        90|\n",
      "+--------------------+----+-----+----------+\n",
      "\n",
      "+--------------------+---+----+----------+\n",
      "|                 _id|age|name|double_age|\n",
      "+--------------------+---+----+----------+\n",
      "|636d401e920e9fad5...| 30|John|        60|\n",
      "|636d401e920e9fad5...| 45| Joe|        90|\n",
      "+--------------------+---+----+----------+\n",
      "\n",
      "+--------------------+----+-----+----------+\n",
      "|                 _id| age| name|double_age|\n",
      "+--------------------+----+-----+----------+\n",
      "|636d401e920e9fad5...|null|Jason|      null|\n",
      "+--------------------+----+-----+----------+\n",
      "\n",
      "+--------------------+---+----+----------+\n",
      "|                 _id|age|name|double_age|\n",
      "+--------------------+---+----+----------+\n",
      "|636d401e920e9fad5...| 45| Joe|        90|\n",
      "+--------------------+---+----+----------+\n",
      "\n"
     ]
    }
   ],
   "source": [
    "df.createOrReplaceTempView(\"people\")\n",
    "\n",
    "spark.sql(\"select * from people\").show()\n",
    "spark.sql(\"select * from people where age > 40\").show()\n",
    "spark.sql(\"select * from people order by age desc\").show()\n",
    "spark.sql(\"select * from people order by age asc\").show()\n",
    "spark.sql(\"select * from people where age is not null\").show()\n",
    "spark.sql(\"select * from people where age is null\").show()\n",
    "\n",
    "age = 40\n",
    "spark.sql(\"select * from people where age > {0}\".format(age)).show()"
   ],
   "metadata": {
    "collapsed": false,
    "pycharm": {
     "name": "#%%\n"
    }
   }
  },
  {
   "cell_type": "code",
   "source": [
    "from pyspark.sql.functions import asc, desc\n",
    "\n",
    "df.filter(\"age > 40\").show()\n",
    "df.filter(\"age is not null\").show()\n",
    "df.orderBy(desc(\"age\")).show()\n",
    "df.orderBy(asc(\"age\")).show()\n",
    "\n",
    "\n",
    "df.filter(\"age is not null and length(name) >= 4\").orderBy(desc(\"age\")).select(\"name\").show()\n",
    "\n"
   ],
   "metadata": {
    "collapsed": false,
    "pycharm": {
     "name": "#%% md SQL w/o view\n"
    }
   },
   "execution_count": 15,
   "outputs": [
    {
     "name": "stdout",
     "output_type": "stream",
     "text": [
      "+--------------------+---+----+----------+\n",
      "|                 _id|age|name|double_age|\n",
      "+--------------------+---+----+----------+\n",
      "|636d401e920e9fad5...| 45| Joe|        90|\n",
      "+--------------------+---+----+----------+\n",
      "\n",
      "+--------------------+---+----+----------+\n",
      "|                 _id|age|name|double_age|\n",
      "+--------------------+---+----+----------+\n",
      "|636d401e920e9fad5...| 30|John|        60|\n",
      "|636d401e920e9fad5...| 45| Joe|        90|\n",
      "+--------------------+---+----+----------+\n",
      "\n",
      "+--------------------+----+-----+----------+\n",
      "|                 _id| age| name|double_age|\n",
      "+--------------------+----+-----+----------+\n",
      "|636d401e920e9fad5...|  45|  Joe|        90|\n",
      "|636d401e920e9fad5...|  30| John|        60|\n",
      "|636d401e920e9fad5...|null|Jason|      null|\n",
      "+--------------------+----+-----+----------+\n",
      "\n",
      "+--------------------+----+-----+----------+\n",
      "|                 _id| age| name|double_age|\n",
      "+--------------------+----+-----+----------+\n",
      "|636d401e920e9fad5...|null|Jason|      null|\n",
      "|636d401e920e9fad5...|  30| John|        60|\n",
      "|636d401e920e9fad5...|  45|  Joe|        90|\n",
      "+--------------------+----+-----+----------+\n",
      "\n",
      "+----+\n",
      "|name|\n",
      "+----+\n",
      "|John|\n",
      "+----+\n",
      "\n"
     ]
    }
   ]
  }
 ],
 "metadata": {
  "kernelspec": {
   "display_name": "Python 3",
   "language": "python",
   "name": "python3"
  },
  "language_info": {
   "codemirror_mode": {
    "name": "ipython",
    "version": 2
   },
   "file_extension": ".py",
   "mimetype": "text/x-python",
   "name": "python",
   "nbconvert_exporter": "python",
   "pygments_lexer": "ipython2",
   "version": "2.7.6"
  }
 },
 "nbformat": 4,
 "nbformat_minor": 0
}