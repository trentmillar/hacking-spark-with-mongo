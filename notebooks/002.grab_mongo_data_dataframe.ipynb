{
 "cells": [
  {
   "cell_type": "code",
   "execution_count": 2,
   "metadata": {
    "collapsed": true
   },
   "outputs": [],
   "source": [
    "import pyspark.sql.functions\n",
    "from pyspark.sql import SparkSession"
   ]
  },
  {
   "cell_type": "code",
   "execution_count": 3,
   "outputs": [
    {
     "name": "stdout",
     "output_type": "stream",
     "text": [
      "22/11/10 11:34:56 WARN Utils: Your hostname, mbp.local resolves to a loopback address: 127.0.0.1; using 192.168.18.6 instead (on interface en0)\n",
      "22/11/10 11:34:56 WARN Utils: Set SPARK_LOCAL_IP if you need to bind to another address\n",
      ":: loading settings :: url = jar:file:/Users/tmillar/dev/repo/hacking-spark-with-mongo/venv/lib/python3.8/site-packages/pyspark/jars/ivy-2.5.0.jar!/org/apache/ivy/core/settings/ivysettings.xml\n"
     ]
    },
    {
     "name": "stderr",
     "output_type": "stream",
     "text": [
      "Ivy Default Cache set to: /Users/tmillar/.ivy2/cache\n",
      "The jars for the packages stored in: /Users/tmillar/.ivy2/jars\n",
      "org.mongodb.spark#mongo-spark-connector added as a dependency\n",
      ":: resolving dependencies :: org.apache.spark#spark-submit-parent-789fcf1e-7951-4e23-af87-ae58e762019f;1.0\n",
      "\tconfs: [default]\n",
      "\tfound org.mongodb.spark#mongo-spark-connector;10.0.5 in central\n",
      "\tfound org.mongodb#mongodb-driver-sync;4.5.1 in central\n",
      "\t[4.5.1] org.mongodb#mongodb-driver-sync;[4.5.0,4.5.99)\n",
      "\tfound org.mongodb#bson;4.5.1 in central\n",
      "\tfound org.mongodb#mongodb-driver-core;4.5.1 in central\n",
      ":: resolution report :: resolve 1380ms :: artifacts dl 5ms\n",
      "\t:: modules in use:\n",
      "\torg.mongodb#bson;4.5.1 from central in [default]\n",
      "\torg.mongodb#mongodb-driver-core;4.5.1 from central in [default]\n",
      "\torg.mongodb#mongodb-driver-sync;4.5.1 from central in [default]\n",
      "\torg.mongodb.spark#mongo-spark-connector;10.0.5 from central in [default]\n",
      "\t---------------------------------------------------------------------\n",
      "\t|                  |            modules            ||   artifacts   |\n",
      "\t|       conf       | number| search|dwnlded|evicted|| number|dwnlded|\n",
      "\t---------------------------------------------------------------------\n",
      "\t|      default     |   4   |   1   |   0   |   0   ||   4   |   0   |\n",
      "\t---------------------------------------------------------------------\n",
      ":: retrieving :: org.apache.spark#spark-submit-parent-789fcf1e-7951-4e23-af87-ae58e762019f\n",
      "\tconfs: [default]\n",
      "\t0 artifacts copied, 4 already retrieved (0kB/6ms)\n"
     ]
    },
    {
     "name": "stdout",
     "output_type": "stream",
     "text": [
      "22/11/10 11:34:58 WARN NativeCodeLoader: Unable to load native-hadoop library for your platform... using builtin-java classes where applicable\n"
     ]
    },
    {
     "name": "stderr",
     "output_type": "stream",
     "text": [
      "Setting default log level to \"WARN\".\n",
      "To adjust logging level use sc.setLogLevel(newLevel). For SparkR, use setLogLevel(newLevel).\n"
     ]
    },
    {
     "name": "stdout",
     "output_type": "stream",
     "text": [
      "22/11/10 11:34:59 WARN Utils: Service 'SparkUI' could not bind on port 4040. Attempting port 4041.\n",
      "22/11/10 11:34:59 WARN Utils: Service 'SparkUI' could not bind on port 4041. Attempting port 4042.\n",
      "22/11/10 11:34:59 WARN Utils: Service 'SparkUI' could not bind on port 4042. Attempting port 4043.\n"
     ]
    }
   ],
   "source": [
    "spark = SparkSession \\\n",
    "    .builder \\\n",
    "    .appName(\"grab_dataframe\") \\\n",
    "    .config('spark.jars.packages', 'org.mongodb.spark:mongo-spark-connector:10.0.5') \\\n",
    "    .getOrCreate()"
   ],
   "metadata": {
    "collapsed": false,
    "pycharm": {
     "name": "#%%\n"
    }
   }
  },
  {
   "cell_type": "code",
   "execution_count": 5,
   "outputs": [],
   "source": [
    "database = \"hacking\"\n",
    "collection = \"people\"\n",
    "connectionString = \"mongodb://127.0.0.1/hacking\""
   ],
   "metadata": {
    "collapsed": false,
    "pycharm": {
     "name": "#%%\n"
    }
   }
  },
  {
   "cell_type": "code",
   "execution_count": 6,
   "outputs": [
    {
     "name": "stdout",
     "output_type": "stream",
     "text": [
      "DataFrame[_id: string, age: int, name: string]\n"
     ]
    }
   ],
   "source": [
    "df = spark.read.format(\"mongodb\") \\\n",
    "    .option(\"database\", database) \\\n",
    "    .option(\"collection\", collection) \\\n",
    "    .load()\n",
    "print(df)"
   ],
   "metadata": {
    "collapsed": false,
    "pycharm": {
     "name": "#%%\n"
    }
   }
  },
  {
   "cell_type": "code",
   "execution_count": 7,
   "outputs": [
    {
     "name": "stderr",
     "output_type": "stream",
     "text": [
      "[Stage 0:>                                                          (0 + 1) / 1]\r"
     ]
    },
    {
     "name": "stdout",
     "output_type": "stream",
     "text": [
      "+--------------------+----+-----+\n",
      "|                 _id| age| name|\n",
      "+--------------------+----+-----+\n",
      "|636d401e920e9fad5...|  30| John|\n",
      "|636d401e920e9fad5...|  45|  Joe|\n",
      "|636d401e920e9fad5...|null|Jason|\n",
      "+--------------------+----+-----+\n",
      "\n"
     ]
    },
    {
     "name": "stderr",
     "output_type": "stream",
     "text": [
      "                                                                                \r"
     ]
    }
   ],
   "source": [
    "df.show()"
   ],
   "metadata": {
    "collapsed": false,
    "pycharm": {
     "name": "#%%\n"
    }
   }
  },
  {
   "cell_type": "markdown",
   "source": [
    "### indexing [] gets column object"
   ],
   "metadata": {
    "collapsed": false,
    "pycharm": {
     "name": "#%% md\n"
    }
   }
  },
  {
   "cell_type": "code",
   "execution_count": 8,
   "outputs": [
    {
     "data": {
      "text/plain": "pyspark.sql.column.Column"
     },
     "execution_count": 8,
     "metadata": {},
     "output_type": "execute_result"
    }
   ],
   "source": [
    "type(df[\"name\"])"
   ],
   "metadata": {
    "collapsed": false,
    "pycharm": {
     "name": "#%%\n"
    }
   }
  },
  {
   "cell_type": "markdown",
   "source": [
    "### select method returns a dataframe of that column"
   ],
   "metadata": {
    "collapsed": false,
    "pycharm": {
     "name": "#%% md\n"
    }
   }
  },
  {
   "cell_type": "code",
   "execution_count": 9,
   "outputs": [
    {
     "name": "stdout",
     "output_type": "stream",
     "text": [
      "+-----+\n",
      "| name|\n",
      "+-----+\n",
      "| John|\n",
      "|  Joe|\n",
      "|Jason|\n",
      "+-----+\n",
      "\n"
     ]
    }
   ],
   "source": [
    "type(df.select(\"name\"))\n",
    "\n",
    "df.select(\"name\").show()"
   ],
   "metadata": {
    "collapsed": false,
    "pycharm": {
     "name": "#%%\n"
    }
   }
  },
  {
   "cell_type": "markdown",
   "source": [
    "### head method will grab N Rows from the top of the dataframe"
   ],
   "metadata": {
    "collapsed": false,
    "pycharm": {
     "name": "#%% md\n"
    }
   }
  },
  {
   "cell_type": "code",
   "execution_count": 10,
   "outputs": [
    {
     "data": {
      "text/plain": "[Row(_id='636d401e920e9fad564fb66b', age=30, name='John'),\n Row(_id='636d401e920e9fad564fb66c', age=45, name='Joe')]"
     },
     "execution_count": 10,
     "metadata": {},
     "output_type": "execute_result"
    }
   ],
   "source": [
    "df.head(2)"
   ],
   "metadata": {
    "collapsed": false,
    "pycharm": {
     "name": "#%%\n"
    }
   }
  },
  {
   "cell_type": "code",
   "execution_count": 11,
   "outputs": [],
   "source": [
    "row = df.head(3)[0]"
   ],
   "metadata": {
    "collapsed": false,
    "pycharm": {
     "name": "#%%\n"
    }
   }
  },
  {
   "cell_type": "code",
   "execution_count": 39,
   "outputs": [
    {
     "name": "stdout",
     "output_type": "stream",
     "text": [
      "+-----+----+\n",
      "| name| age|\n",
      "+-----+----+\n",
      "|  Joe|null|\n",
      "| John|  39|\n",
      "|Jason|  49|\n",
      "+-----+----+\n",
      "\n"
     ]
    }
   ],
   "source": [
    "df.select([\"name\", \"age\"]).show()"
   ],
   "metadata": {
    "collapsed": false,
    "pycharm": {
     "name": "#%%\n"
    }
   }
  },
  {
   "cell_type": "markdown",
   "source": [
    "### withColumn will return a new dataframe with this new column added"
   ],
   "metadata": {
    "collapsed": false,
    "pycharm": {
     "name": "#%% md\n"
    }
   }
  },
  {
   "cell_type": "code",
   "execution_count": 12,
   "outputs": [
    {
     "name": "stdout",
     "output_type": "stream",
     "text": [
      "+--------------------+----+-----+----------+\n",
      "|                 _id| age| name|double_age|\n",
      "+--------------------+----+-----+----------+\n",
      "|636d401e920e9fad5...|  30| John|        60|\n",
      "|636d401e920e9fad5...|  45|  Joe|        90|\n",
      "|636d401e920e9fad5...|null|Jason|      null|\n",
      "+--------------------+----+-----+----------+\n",
      "\n"
     ]
    }
   ],
   "source": [
    "df = df.withColumn(\"double_age\", df[\"age\"] * 2)\n",
    "df.show()"
   ],
   "metadata": {
    "collapsed": false,
    "pycharm": {
     "name": "#%%\n"
    }
   }
  },
  {
   "cell_type": "markdown",
   "source": [
    "### withColumnRenamed to rename a column"
   ],
   "metadata": {
    "collapsed": false,
    "pycharm": {
     "name": "#%% md\n"
    }
   }
  },
  {
   "cell_type": "code",
   "execution_count": 13,
   "outputs": [
    {
     "data": {
      "text/plain": "DataFrame[_id: string, new_age: int, name: string, double_age: int]"
     },
     "execution_count": 13,
     "metadata": {},
     "output_type": "execute_result"
    }
   ],
   "source": [
    "df.withColumnRenamed(\"age\", \"new_age\")"
   ],
   "metadata": {
    "collapsed": false,
    "pycharm": {
     "name": "#%%\n"
    }
   }
  },
  {
   "cell_type": "markdown",
   "source": [
    "### use SQL"
   ],
   "metadata": {
    "collapsed": false,
    "pycharm": {
     "name": "#%% md\n"
    }
   }
  },
  {
   "cell_type": "code",
   "execution_count": 14,
   "outputs": [
    {
     "name": "stdout",
     "output_type": "stream",
     "text": [
      "+--------------------+----+-----+----------+\n",
      "|                 _id| age| name|double_age|\n",
      "+--------------------+----+-----+----------+\n",
      "|636d401e920e9fad5...|  30| John|        60|\n",
      "|636d401e920e9fad5...|  45|  Joe|        90|\n",
      "|636d401e920e9fad5...|null|Jason|      null|\n",
      "+--------------------+----+-----+----------+\n",
      "\n",
      "+--------------------+---+----+----------+\n",
      "|                 _id|age|name|double_age|\n",
      "+--------------------+---+----+----------+\n",
      "|636d401e920e9fad5...| 45| Joe|        90|\n",
      "+--------------------+---+----+----------+\n",
      "\n",
      "+--------------------+----+-----+----------+\n",
      "|                 _id| age| name|double_age|\n",
      "+--------------------+----+-----+----------+\n",
      "|636d401e920e9fad5...|  45|  Joe|        90|\n",
      "|636d401e920e9fad5...|  30| John|        60|\n",
      "|636d401e920e9fad5...|null|Jason|      null|\n",
      "+--------------------+----+-----+----------+\n",
      "\n",
      "+--------------------+----+-----+----------+\n",
      "|                 _id| age| name|double_age|\n",
      "+--------------------+----+-----+----------+\n",
      "|636d401e920e9fad5...|null|Jason|      null|\n",
      "|636d401e920e9fad5...|  30| John|        60|\n",
      "|636d401e920e9fad5...|  45|  Joe|        90|\n",
      "+--------------------+----+-----+----------+\n",
      "\n",
      "+--------------------+---+----+----------+\n",
      "|                 _id|age|name|double_age|\n",
      "+--------------------+---+----+----------+\n",
      "|636d401e920e9fad5...| 30|John|        60|\n",
      "|636d401e920e9fad5...| 45| Joe|        90|\n",
      "+--------------------+---+----+----------+\n",
      "\n",
      "+--------------------+----+-----+----------+\n",
      "|                 _id| age| name|double_age|\n",
      "+--------------------+----+-----+----------+\n",
      "|636d401e920e9fad5...|null|Jason|      null|\n",
      "+--------------------+----+-----+----------+\n",
      "\n",
      "+--------------------+---+----+----------+\n",
      "|                 _id|age|name|double_age|\n",
      "+--------------------+---+----+----------+\n",
      "|636d401e920e9fad5...| 45| Joe|        90|\n",
      "+--------------------+---+----+----------+\n",
      "\n"
     ]
    }
   ],
   "source": [
    "df.createOrReplaceTempView(\"people\")\n",
    "\n",
    "spark.sql(\"select * from people\").show()\n",
    "spark.sql(\"select * from people where age > 40\").show()\n",
    "spark.sql(\"select * from people order by age desc\").show()\n",
    "spark.sql(\"select * from people order by age asc\").show()\n",
    "spark.sql(\"select * from people where age is not null\").show()\n",
    "spark.sql(\"select * from people where age is null\").show()\n",
    "\n",
    "age = 40\n",
    "spark.sql(\"select * from people where age > {0}\".format(age)).show()"
   ],
   "metadata": {
    "collapsed": false,
    "pycharm": {
     "name": "#%%\n"
    }
   }
  },
  {
   "cell_type": "code",
   "source": [
    "from pyspark.sql.functions import asc, desc\n",
    "\n",
    "df.filter(\"age > 40\").show()\n",
    "df.filter(\"age is not null\").show()\n",
    "df.orderBy(desc(\"age\")).show()\n",
    "df.orderBy(asc(\"age\")).show()\n",
    "\n",
    "\n",
    "df.filter(\"age is not null and length(name) >= 4\").orderBy(desc(\"age\")).select(\"name\").show()\n",
    "\n"
   ],
   "metadata": {
    "collapsed": false,
    "pycharm": {
     "name": "#%% md SQL w/o view\n"
    }
   },
   "execution_count": 15,
   "outputs": [
    {
     "name": "stdout",
     "output_type": "stream",
     "text": [
      "+--------------------+---+----+----------+\n",
      "|                 _id|age|name|double_age|\n",
      "+--------------------+---+----+----------+\n",
      "|636d401e920e9fad5...| 45| Joe|        90|\n",
      "+--------------------+---+----+----------+\n",
      "\n",
      "+--------------------+---+----+----------+\n",
      "|                 _id|age|name|double_age|\n",
      "+--------------------+---+----+----------+\n",
      "|636d401e920e9fad5...| 30|John|        60|\n",
      "|636d401e920e9fad5...| 45| Joe|        90|\n",
      "+--------------------+---+----+----------+\n",
      "\n",
      "+--------------------+----+-----+----------+\n",
      "|                 _id| age| name|double_age|\n",
      "+--------------------+----+-----+----------+\n",
      "|636d401e920e9fad5...|  45|  Joe|        90|\n",
      "|636d401e920e9fad5...|  30| John|        60|\n",
      "|636d401e920e9fad5...|null|Jason|      null|\n",
      "+--------------------+----+-----+----------+\n",
      "\n",
      "+--------------------+----+-----+----------+\n",
      "|                 _id| age| name|double_age|\n",
      "+--------------------+----+-----+----------+\n",
      "|636d401e920e9fad5...|null|Jason|      null|\n",
      "|636d401e920e9fad5...|  30| John|        60|\n",
      "|636d401e920e9fad5...|  45|  Joe|        90|\n",
      "+--------------------+----+-----+----------+\n",
      "\n",
      "+----+\n",
      "|name|\n",
      "+----+\n",
      "|John|\n",
      "+----+\n",
      "\n"
     ]
    }
   ]
  }
 ],
 "metadata": {
  "kernelspec": {
   "display_name": "Python 3",
   "language": "python",
   "name": "python3"
  },
  "language_info": {
   "codemirror_mode": {
    "name": "ipython",
    "version": 2
   },
   "file_extension": ".py",
   "mimetype": "text/x-python",
   "name": "python",
   "nbconvert_exporter": "python",
   "pygments_lexer": "ipython2",
   "version": "2.7.6"
  }
 },
 "nbformat": 4,
 "nbformat_minor": 0
}