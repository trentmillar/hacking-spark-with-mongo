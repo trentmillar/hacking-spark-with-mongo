{
 "cells": [
  {
   "cell_type": "code",
   "execution_count": 1,
   "metadata": {
    "collapsed": true
   },
   "outputs": [
    {
     "name": "stdout",
     "output_type": "stream",
     "text": [
      "22/11/10 12:27:34 WARN Utils: Your hostname, mbp.local resolves to a loopback address: 127.0.0.1; using 192.168.18.6 instead (on interface en0)\n",
      "22/11/10 12:27:34 WARN Utils: Set SPARK_LOCAL_IP if you need to bind to another address\n",
      ":: loading settings :: url = jar:file:/Users/tmillar/dev/repo/hacking-spark-with-mongo/venv/lib/python3.8/site-packages/pyspark/jars/ivy-2.5.0.jar!/org/apache/ivy/core/settings/ivysettings.xml\n"
     ]
    },
    {
     "name": "stderr",
     "output_type": "stream",
     "text": [
      "Ivy Default Cache set to: /Users/tmillar/.ivy2/cache\n",
      "The jars for the packages stored in: /Users/tmillar/.ivy2/jars\n",
      "org.mongodb.spark#mongo-spark-connector added as a dependency\n",
      ":: resolving dependencies :: org.apache.spark#spark-submit-parent-8c8340f0-d37e-4aac-a9a8-56234b5118eb;1.0\n",
      "\tconfs: [default]\n",
      "\tfound org.mongodb.spark#mongo-spark-connector;10.0.5 in central\n",
      "\tfound org.mongodb#mongodb-driver-sync;4.5.1 in central\n",
      "\t[4.5.1] org.mongodb#mongodb-driver-sync;[4.5.0,4.5.99)\n",
      "\tfound org.mongodb#bson;4.5.1 in central\n",
      "\tfound org.mongodb#mongodb-driver-core;4.5.1 in central\n",
      ":: resolution report :: resolve 2059ms :: artifacts dl 6ms\n",
      "\t:: modules in use:\n",
      "\torg.mongodb#bson;4.5.1 from central in [default]\n",
      "\torg.mongodb#mongodb-driver-core;4.5.1 from central in [default]\n",
      "\torg.mongodb#mongodb-driver-sync;4.5.1 from central in [default]\n",
      "\torg.mongodb.spark#mongo-spark-connector;10.0.5 from central in [default]\n",
      "\t---------------------------------------------------------------------\n",
      "\t|                  |            modules            ||   artifacts   |\n",
      "\t|       conf       | number| search|dwnlded|evicted|| number|dwnlded|\n",
      "\t---------------------------------------------------------------------\n",
      "\t|      default     |   4   |   1   |   0   |   0   ||   4   |   0   |\n",
      "\t---------------------------------------------------------------------\n",
      ":: retrieving :: org.apache.spark#spark-submit-parent-8c8340f0-d37e-4aac-a9a8-56234b5118eb\n",
      "\tconfs: [default]\n",
      "\t0 artifacts copied, 4 already retrieved (0kB/5ms)\n"
     ]
    },
    {
     "name": "stdout",
     "output_type": "stream",
     "text": [
      "22/11/10 12:27:37 WARN NativeCodeLoader: Unable to load native-hadoop library for your platform... using builtin-java classes where applicable\n"
     ]
    },
    {
     "name": "stderr",
     "output_type": "stream",
     "text": [
      "Setting default log level to \"WARN\".\n",
      "To adjust logging level use sc.setLogLevel(newLevel). For SparkR, use setLogLevel(newLevel).\n"
     ]
    },
    {
     "name": "stdout",
     "output_type": "stream",
     "text": [
      "22/11/10 12:27:38 WARN Utils: Service 'SparkUI' could not bind on port 4040. Attempting port 4041.\n",
      "22/11/10 12:27:38 WARN Utils: Service 'SparkUI' could not bind on port 4041. Attempting port 4042.\n",
      "22/11/10 12:27:38 WARN Utils: Service 'SparkUI' could not bind on port 4042. Attempting port 4043.\n",
      "22/11/10 12:27:38 WARN Utils: Service 'SparkUI' could not bind on port 4043. Attempting port 4044.\n"
     ]
    }
   ],
   "source": [
    "from pyspark.sql import SparkSession\n",
    "\n",
    "connectionString = \"mongodb://127.0.0.1\"\n",
    "spark = SparkSession \\\n",
    "    .builder \\\n",
    "    .appName(\"more_dataframe\") \\\n",
    "    .config('spark.jars.packages', 'org.mongodb.spark:mongo-spark-connector:10.0.5') \\\n",
    "    .config(\"spark.mongodb.input.uri\", connectionString) \\\n",
    "    .config(\"spark.mongodb.output.uri\", connectionString) \\\n",
    "    .getOrCreate()"
   ]
  },
  {
   "cell_type": "code",
   "execution_count": 5,
   "outputs": [],
   "source": [
    "database = \"hacking\"\n",
    "collection = \"stocks\""
   ],
   "metadata": {
    "collapsed": false,
    "pycharm": {
     "name": "#%%\n"
    }
   }
  },
  {
   "cell_type": "code",
   "execution_count": 3,
   "outputs": [
    {
     "name": "stderr",
     "output_type": "stream",
     "text": [
      "Traceback (most recent call last):\n",
      "  File \"_pydevd_bundle/pydevd_cython_darwin_38_64.pyx\", line 1589, in _pydevd_bundle.pydevd_cython_darwin_38_64.ThreadTracer.__call__\n",
      "  File \"_pydevd_bundle/pydevd_cython_darwin_38_64.pyx\", line 756, in _pydevd_bundle.pydevd_cython_darwin_38_64.PyDBFrame.trace_dispatch\n",
      "  File \"/Applications/Code/PyCharm.app/Contents/plugins/python/helpers-pro/jupyter_debug/pydev_jupyter_plugin.py\", line 96, in can_not_skip\n",
      "    cell_info = pydb.cell_info\n",
      "AttributeError: 'PyDB' object has no attribute 'cell_info'\n"
     ]
    }
   ],
   "source": [
    "df_csv = spark.read.csv(\"./../sample_data/stock.csv\", inferSchema=True, header=True)"
   ],
   "metadata": {
    "collapsed": false,
    "pycharm": {
     "name": "#%%\n"
    }
   }
  },
  {
   "cell_type": "code",
   "execution_count": 11,
   "outputs": [
    {
     "name": "stdout",
     "output_type": "stream",
     "text": [
      "+-------------------+------------------+------------------+------------------+------------------+---------+------------------+\n",
      "|               Date|              Open|              High|               Low|             Close|   Volume|         Adj Close|\n",
      "+-------------------+------------------+------------------+------------------+------------------+---------+------------------+\n",
      "|2010-01-04 00:00:00|        213.429998|        214.499996|212.38000099999996|        214.009998|123432400|         27.727039|\n",
      "|2010-01-05 00:00:00|        214.599998|        215.589994|        213.249994|        214.379993|150476200|27.774976000000002|\n",
      "|2010-01-06 00:00:00|        214.379993|            215.23|        210.750004|        210.969995|138040000|27.333178000000004|\n",
      "|2010-01-07 00:00:00|            211.75|        212.000006|        209.050005|            210.58|119282800|          27.28265|\n",
      "|2010-01-08 00:00:00|        210.299994|        212.000006|209.06000500000002|211.98000499999998|111902700|         27.464034|\n",
      "|2010-01-11 00:00:00|212.79999700000002|        213.000002|        208.450005|210.11000299999998|115557400|         27.221758|\n",
      "|2010-01-12 00:00:00|209.18999499999998|209.76999500000002|        206.419998|        207.720001|148614900|          26.91211|\n",
      "|2010-01-13 00:00:00|        207.870005|210.92999500000002|        204.099998|        210.650002|151473000|          27.29172|\n",
      "|2010-01-14 00:00:00|210.11000299999998|210.45999700000002|        209.020004|            209.43|108223500|         27.133657|\n",
      "|2010-01-15 00:00:00|210.92999500000002|211.59999700000003|        205.869999|            205.93|148516900|26.680197999999997|\n",
      "|2010-01-19 00:00:00|        208.330002|215.18999900000003|        207.240004|        215.039995|182501900|27.860484999999997|\n",
      "|2010-01-20 00:00:00|        214.910006|        215.549994|        209.500002|            211.73|153038200|         27.431644|\n",
      "|2010-01-21 00:00:00|        212.079994|213.30999599999998|        207.210003|        208.069996|152038600|         26.957455|\n",
      "|2010-01-22 00:00:00|206.78000600000001|        207.499996|            197.16|            197.75|220441900|         25.620401|\n",
      "|2010-01-25 00:00:00|202.51000200000001|        204.699999|        200.190002|        203.070002|266424900|26.309658000000002|\n",
      "|2010-01-26 00:00:00|205.95000100000001|        213.710005|        202.580004|        205.940001|466777500|         26.681494|\n",
      "|2010-01-27 00:00:00|        206.849995|            210.58|        199.530001|        207.880005|430642100|26.932840000000002|\n",
      "|2010-01-28 00:00:00|        204.930004|        205.500004|        198.699995|        199.289995|293375600|25.819922000000002|\n",
      "|2010-01-29 00:00:00|        201.079996|        202.199995|        190.250002|        192.060003|311488100|         24.883208|\n",
      "|2010-02-01 00:00:00|192.36999699999998|             196.0|191.29999899999999|        194.729998|187469100|         25.229131|\n",
      "+-------------------+------------------+------------------+------------------+------------------+---------+------------------+\n",
      "only showing top 20 rows\n",
      "\n"
     ]
    }
   ],
   "source": [
    "df_csv.show()"
   ],
   "metadata": {
    "collapsed": false,
    "pycharm": {
     "name": "#%%\n"
    }
   }
  },
  {
   "cell_type": "markdown",
   "source": [
    "Write stocks Dataframe from csv into Mongo"
   ],
   "metadata": {
    "collapsed": false
   }
  },
  {
   "cell_type": "code",
   "execution_count": 8,
   "outputs": [],
   "source": [
    "df_csv.write.format(\"mongodb\") \\\n",
    "    .option(\"collection\", collection) \\\n",
    "    .option(\"database\", database) \\\n",
    "    .mode(\"overwrite\") \\\n",
    "    .save()\n"
   ],
   "metadata": {
    "collapsed": false,
    "pycharm": {
     "name": "#%%\n"
    }
   }
  },
  {
   "cell_type": "markdown",
   "source": [
    "Show what was written"
   ],
   "metadata": {
    "collapsed": false
   }
  },
  {
   "cell_type": "code",
   "execution_count": 9,
   "outputs": [
    {
     "name": "stdout",
     "output_type": "stream",
     "text": [
      "+-------------------+------------------+------------------+------------------+------------------+---------+------------------+\n",
      "|               Date|              Open|              High|               Low|             Close|   Volume|         Adj Close|\n",
      "+-------------------+------------------+------------------+------------------+------------------+---------+------------------+\n",
      "|2010-01-04 00:00:00|        213.429998|        214.499996|212.38000099999996|        214.009998|123432400|         27.727039|\n",
      "|2010-01-05 00:00:00|        214.599998|        215.589994|        213.249994|        214.379993|150476200|27.774976000000002|\n",
      "|2010-01-06 00:00:00|        214.379993|            215.23|        210.750004|        210.969995|138040000|27.333178000000004|\n",
      "|2010-01-07 00:00:00|            211.75|        212.000006|        209.050005|            210.58|119282800|          27.28265|\n",
      "|2010-01-08 00:00:00|        210.299994|        212.000006|209.06000500000002|211.98000499999998|111902700|         27.464034|\n",
      "|2010-01-11 00:00:00|212.79999700000002|        213.000002|        208.450005|210.11000299999998|115557400|         27.221758|\n",
      "|2010-01-12 00:00:00|209.18999499999998|209.76999500000002|        206.419998|        207.720001|148614900|          26.91211|\n",
      "|2010-01-13 00:00:00|        207.870005|210.92999500000002|        204.099998|        210.650002|151473000|          27.29172|\n",
      "|2010-01-14 00:00:00|210.11000299999998|210.45999700000002|        209.020004|            209.43|108223500|         27.133657|\n",
      "|2010-01-15 00:00:00|210.92999500000002|211.59999700000003|        205.869999|            205.93|148516900|26.680197999999997|\n",
      "|2010-01-19 00:00:00|        208.330002|215.18999900000003|        207.240004|        215.039995|182501900|27.860484999999997|\n",
      "|2010-01-20 00:00:00|        214.910006|        215.549994|        209.500002|            211.73|153038200|         27.431644|\n",
      "|2010-01-21 00:00:00|        212.079994|213.30999599999998|        207.210003|        208.069996|152038600|         26.957455|\n",
      "|2010-01-22 00:00:00|206.78000600000001|        207.499996|            197.16|            197.75|220441900|         25.620401|\n",
      "|2010-01-25 00:00:00|202.51000200000001|        204.699999|        200.190002|        203.070002|266424900|26.309658000000002|\n",
      "|2010-01-26 00:00:00|205.95000100000001|        213.710005|        202.580004|        205.940001|466777500|         26.681494|\n",
      "|2010-01-27 00:00:00|        206.849995|            210.58|        199.530001|        207.880005|430642100|26.932840000000002|\n",
      "|2010-01-28 00:00:00|        204.930004|        205.500004|        198.699995|        199.289995|293375600|25.819922000000002|\n",
      "|2010-01-29 00:00:00|        201.079996|        202.199995|        190.250002|        192.060003|311488100|         24.883208|\n",
      "|2010-02-01 00:00:00|192.36999699999998|             196.0|191.29999899999999|        194.729998|187469100|         25.229131|\n",
      "+-------------------+------------------+------------------+------------------+------------------+---------+------------------+\n",
      "only showing top 20 rows\n",
      "\n"
     ]
    }
   ],
   "source": [
    "df_csv.show()"
   ],
   "metadata": {
    "collapsed": false,
    "pycharm": {
     "name": "#%%\n"
    }
   }
  },
  {
   "cell_type": "markdown",
   "source": [
    "Read stock collection from Mongo"
   ],
   "metadata": {
    "collapsed": false,
    "pycharm": {
     "name": "#%% md\n"
    }
   }
  },
  {
   "cell_type": "code",
   "execution_count": null,
   "outputs": [],
   "source": [
    "df = spark.read.format(\"mongodb\") \\\n",
    "    .option(\"collection\", collection) \\\n",
    "    .option(\"database\", database) \\\n",
    "    .load()\n"
   ],
   "metadata": {
    "collapsed": false,
    "pycharm": {
     "name": "#%%\n"
    }
   }
  },
  {
   "cell_type": "code",
   "execution_count": 11,
   "outputs": [
    {
     "name": "stderr",
     "output_type": "stream",
     "text": [
      "Traceback (most recent call last):\n",
      "  File \"_pydevd_bundle/pydevd_cython_darwin_38_64.pyx\", line 1589, in _pydevd_bundle.pydevd_cython_darwin_38_64.ThreadTracer.__call__\n",
      "  File \"_pydevd_bundle/pydevd_cython_darwin_38_64.pyx\", line 756, in _pydevd_bundle.pydevd_cython_darwin_38_64.PyDBFrame.trace_dispatch\n",
      "  File \"/Applications/Code/PyCharm.app/Contents/plugins/python/helpers-pro/jupyter_debug/pydev_jupyter_plugin.py\", line 96, in can_not_skip\n",
      "    cell_info = pydb.cell_info\n",
      "AttributeError: 'PyDB' object has no attribute 'cell_info'\n",
      "Traceback (most recent call last):\n",
      "  File \"_pydevd_bundle/pydevd_cython_darwin_38_64.pyx\", line 1589, in _pydevd_bundle.pydevd_cython_darwin_38_64.ThreadTracer.__call__\n",
      "  File \"_pydevd_bundle/pydevd_cython_darwin_38_64.pyx\", line 756, in _pydevd_bundle.pydevd_cython_darwin_38_64.PyDBFrame.trace_dispatch\n",
      "  File \"/Applications/Code/PyCharm.app/Contents/plugins/python/helpers-pro/jupyter_debug/pydev_jupyter_plugin.py\", line 96, in can_not_skip\n",
      "    cell_info = pydb.cell_info\n",
      "AttributeError: 'PyDB' object has no attribute 'cell_info'\n",
      "Traceback (most recent call last):\n",
      "  File \"_pydevd_bundle/pydevd_cython_darwin_38_64.pyx\", line 1589, in _pydevd_bundle.pydevd_cython_darwin_38_64.ThreadTracer.__call__\n",
      "  File \"_pydevd_bundle/pydevd_cython_darwin_38_64.pyx\", line 756, in _pydevd_bundle.pydevd_cython_darwin_38_64.PyDBFrame.trace_dispatch\n",
      "  File \"/Applications/Code/PyCharm.app/Contents/plugins/python/helpers-pro/jupyter_debug/pydev_jupyter_plugin.py\", line 96, in can_not_skip\n",
      "    cell_info = pydb.cell_info\n",
      "AttributeError: 'PyDB' object has no attribute 'cell_info'\n",
      "Traceback (most recent call last):\n",
      "  File \"_pydevd_bundle/pydevd_cython_darwin_38_64.pyx\", line 1589, in _pydevd_bundle.pydevd_cython_darwin_38_64.ThreadTracer.__call__\n",
      "  File \"_pydevd_bundle/pydevd_cython_darwin_38_64.pyx\", line 756, in _pydevd_bundle.pydevd_cython_darwin_38_64.PyDBFrame.trace_dispatch\n",
      "  File \"/Applications/Code/PyCharm.app/Contents/plugins/python/helpers-pro/jupyter_debug/pydev_jupyter_plugin.py\", line 96, in can_not_skip\n",
      "    cell_info = pydb.cell_info\n",
      "AttributeError: 'PyDB' object has no attribute 'cell_info'\n"
     ]
    },
    {
     "name": "stdout",
     "output_type": "stream",
     "text": [
      "+------------------+------------------+-------------------+------------------+------------------+------------------+---------+--------------------+\n",
      "|         Adj Close|             Close|               Date|              High|               Low|              Open|   Volume|                 _id|\n",
      "+------------------+------------------+-------------------+------------------+------------------+------------------+---------+--------------------+\n",
      "|         27.727039|        214.009998|2010-01-04 00:00:00|        214.499996|212.38000099999996|        213.429998|123432400|636d5432962d673da...|\n",
      "|27.774976000000002|        214.379993|2010-01-05 00:00:00|        215.589994|        213.249994|        214.599998|150476200|636d5432962d673da...|\n",
      "|27.333178000000004|        210.969995|2010-01-06 00:00:00|            215.23|        210.750004|        214.379993|138040000|636d5432962d673da...|\n",
      "|          27.28265|            210.58|2010-01-07 00:00:00|        212.000006|        209.050005|            211.75|119282800|636d5432962d673da...|\n",
      "|         27.464034|211.98000499999998|2010-01-08 00:00:00|        212.000006|209.06000500000002|        210.299994|111902700|636d5432962d673da...|\n",
      "|         27.221758|210.11000299999998|2010-01-11 00:00:00|        213.000002|        208.450005|212.79999700000002|115557400|636d5432962d673da...|\n",
      "|          26.91211|        207.720001|2010-01-12 00:00:00|209.76999500000002|        206.419998|209.18999499999998|148614900|636d5432962d673da...|\n",
      "|          27.29172|        210.650002|2010-01-13 00:00:00|210.92999500000002|        204.099998|        207.870005|151473000|636d5432962d673da...|\n",
      "|         27.133657|            209.43|2010-01-14 00:00:00|210.45999700000002|        209.020004|210.11000299999998|108223500|636d5432962d673da...|\n",
      "|26.680197999999997|            205.93|2010-01-15 00:00:00|211.59999700000003|        205.869999|210.92999500000002|148516900|636d5432962d673da...|\n",
      "|27.860484999999997|        215.039995|2010-01-19 00:00:00|215.18999900000003|        207.240004|        208.330002|182501900|636d5432962d673da...|\n",
      "|         27.431644|            211.73|2010-01-20 00:00:00|        215.549994|        209.500002|        214.910006|153038200|636d5432962d673da...|\n",
      "|         26.957455|        208.069996|2010-01-21 00:00:00|213.30999599999998|        207.210003|        212.079994|152038600|636d5432962d673da...|\n",
      "|         25.620401|            197.75|2010-01-22 00:00:00|        207.499996|            197.16|206.78000600000001|220441900|636d5432962d673da...|\n",
      "|26.309658000000002|        203.070002|2010-01-25 00:00:00|        204.699999|        200.190002|202.51000200000001|266424900|636d5432962d673da...|\n",
      "|         26.681494|        205.940001|2010-01-26 00:00:00|        213.710005|        202.580004|205.95000100000001|466777500|636d5432962d673da...|\n",
      "|26.932840000000002|        207.880005|2010-01-27 00:00:00|            210.58|        199.530001|        206.849995|430642100|636d5432962d673da...|\n",
      "|25.819922000000002|        199.289995|2010-01-28 00:00:00|        205.500004|        198.699995|        204.930004|293375600|636d5432962d673da...|\n",
      "|         24.883208|        192.060003|2010-01-29 00:00:00|        202.199995|        190.250002|        201.079996|311488100|636d5432962d673da...|\n",
      "|         25.229131|        194.729998|2010-02-01 00:00:00|             196.0|191.29999899999999|192.36999699999998|187469100|636d5432962d673da...|\n",
      "+------------------+------------------+-------------------+------------------+------------------+------------------+---------+--------------------+\n",
      "only showing top 20 rows\n",
      "\n"
     ]
    }
   ],
   "source": [
    "df.show()\n"
   ],
   "metadata": {
    "collapsed": false,
    "pycharm": {
     "name": "#%%\n"
    }
   }
  }
 ],
 "metadata": {
  "kernelspec": {
   "display_name": "Python 3",
   "language": "python",
   "name": "python3"
  },
  "language_info": {
   "codemirror_mode": {
    "name": "ipython",
    "version": 2
   },
   "file_extension": ".py",
   "mimetype": "text/x-python",
   "name": "python",
   "nbconvert_exporter": "python",
   "pygments_lexer": "ipython2",
   "version": "2.7.6"
  }
 },
 "nbformat": 4,
 "nbformat_minor": 0
}